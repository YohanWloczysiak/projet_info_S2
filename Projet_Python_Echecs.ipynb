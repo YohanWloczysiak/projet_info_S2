{
 "cells": [
  {
   "cell_type": "markdown",
   "metadata": {},
   "source": [
    "#  Implémentation des règles du jeu\n",
    "## Règles de déplacement"
   ]
  },
  {
   "cell_type": "markdown",
   "metadata": {},
   "source": [
    "Tout d'abord, nous avons codé la fonction qui permet le déplacement d'un pion. Nous avons dû également prendre en compte dans cette fonction la possibilité de promouvoir un pion (le changer en une autre pièce lorsqu'il arrive de l'autre côté du plateau), ainsi que la prise en passant."
   ]
  },
  {
   "cell_type": "markdown",
   "metadata": {},
   "source": [
    "Pour implémenter la fonction promotion, il a fallu distinguer tous les cas de promotion du pion possible. Puis il est nécessaire de remplacer la pièce \"morte\" par le pion qui obtient sa promotion. Dès lors il était nécessaire d'accéder à l'indice de la liste \"morts\" dans lequel était stockée la pièce qui va remplacer le pion, d'où la création de la fonction indice."
   ]
  },
  {
   "cell_type": "code",
   "execution_count": null,
   "metadata": {},
   "outputs": [],
   "source": [
    "def promotion(p, pièce) :\n",
    "    color = pion[2]\n",
    "    if piece == \"dame\":\n",
    "        if color == \"noir\":\n",
    "            if DN1 in morts :\n",
    "                DN1[0] = pion[0]\n",
    "                morts[indice(DN1, morts)] = p\n",
    "                return DN1\n",
    "            else : \n",
    "                raise ValueError(\"promotion impossible\")\n",
    "        else :\n",
    "            if DB1 in morts :\n",
    "                DB1[0] = pion[0]\n",
    "                morts[indice(DB1, morts)] = p\n",
    "                return DB1\n",
    "            else : \n",
    "                raise ValueError(\"promotion impossible\")\n",
    "    elif piece == \"cavalier\":\n",
    "        if color == \"noir\" :\n",
    "            if CN1 in morts :\n",
    "                CN1[0] = pion[0]\n",
    "                morts[indice(CN1, morts)] = p\n",
    "                return CN1\n",
    "            elif CN2 in morts :\n",
    "                CN2[0] = pion[0]\n",
    "                morts[indice(CN2, morts)] = p\n",
    "                return CN2\n",
    "            else :\n",
    "                raise ValueError(\"promotion impossible\")\n",
    "        else : \n",
    "            if CB1 in morts :\n",
    "                CB1[0] = pion[0]\n",
    "                morts[indice(CB1, morts)] = p\n",
    "                return CB1\n",
    "            elif CB2 in morts :\n",
    "                CB2[0] = pion[0]\n",
    "                morts[indice(CB2, morts)] = p\n",
    "                return CB2\n",
    "            else :\n",
    "                raise ValueError(\"promotion impossible\")\n",
    "    elif piece == \"fou\":\n",
    "        if color == \"noir\" :\n",
    "            if FN1 in morts :\n",
    "                FN1[0] = pion[0]\n",
    "                morts[indice(FN1, morts)] = p\n",
    "                return FN1\n",
    "            elif FN2 in morts :\n",
    "                FN2[0] = pion[0]\n",
    "                morts[indice(FN2, morts)] = p\n",
    "                return FN2\n",
    "            else :\n",
    "                raise ValueError(\"promotion impossible\")\n",
    "        else : \n",
    "            if FB1 in morts :\n",
    "                FB1[0] = pion[0]\n",
    "                morts[indice(FB1, morts)] = p\n",
    "                return FB1\n",
    "            elif FB2 in morts :\n",
    "                FB2[0] = pion[0]\n",
    "                morts[indice(FB2, morts)] = p\n",
    "                return FB2\n",
    "            else :\n",
    "                raise ValueError(\"promotion impossible\")  \n",
    "            \n",
    "def indice(x, liste) : \n",
    "    indice = 0\n",
    "    while liste[indice] != x and indice <= len(liste):\n",
    "        indice += 1\n",
    "    if indice == len(liste):\n",
    "        return None\n",
    "    return indice"
   ]
  },
  {
   "cell_type": "code",
   "execution_count": null,
   "metadata": {},
   "outputs": [],
   "source": [
    "def prise_en_passant(p, a, b) :\n",
    "    color = p[2]\n",
    "    if color == \"noir\" : \n",
    "        if plateau[a-1, b][1] == \"pion\" and plateau[a-1, b][2] == \"blanc\" :\n",
    "            return plateau[a-1, b]\n",
    "        else :\n",
    "            return None\n",
    "    else : \n",
    "        if plateau[a+1, b][1] == \"pion\" and plateau[a+1, b][2] == \"noir\" :\n",
    "            return plateau[a-1, b]\n",
    "        else :\n",
    "            return None"
   ]
  },
  {
   "cell_type": "markdown",
   "metadata": {},
   "source": [
    "Finalement, la fonction deplacement_pion est assez dense, d'autant plus qu'il est nécessaire de distinguer la couleur du pion pour vérifier si le déplacement demandé est possible."
   ]
  },
  {
   "cell_type": "code",
   "execution_count": 4,
   "metadata": {},
   "outputs": [],
   "source": [
    "def deplacement_pion(p, a, b):\n",
    "    assert 0 <= a < 7\n",
    "    assert 0 <= b <= 7\n",
    "    (X, Y) = p[0]\n",
    "    color = p[2]\n",
    "    if (a == 0 and color == \"blanc\") or (a == 7 and color == \"noir\"):\n",
    "        piece = input(\"Choisissez une pièce pour échanger votre pion : dame, cavalier, fou\")\n",
    "        p = promotion(p, piece)\n",
    "    else : \n",
    "        pass\n",
    "    if b in {Y+1, Y-1} and plateau[a, b] != 0 :    \n",
    "        dead = prise_en_passant(p, a, b)\n",
    "        if dead != None :                         # prise en passant\n",
    "            morts.append(dead)\n",
    "            return (a, b)\n",
    "        elif plateau[a, b][2] != color :          # élimination simple d'une pièce\n",
    "            morts.append(plateau[a, b])\n",
    "            return (a, b)\n",
    "        else :\n",
    "            raise ValueError(\"Une autre pièce se trouve déjà sur cette case\")  \n",
    "    elif b == Y and plateau[a,b] == 0 :             # déplacement simple\n",
    "        if color == \"noir\" :                        # le pion est noir\n",
    "            if a == X+2 and X!= 1 :\n",
    "                raise ValueError(\"Le déplacement est impossible\") \n",
    "            elif a == X+1 or b == X+2 :     \n",
    "                return (a,b)\n",
    "            else :\n",
    "                raise ValueError(\"Le déplacement est impossible\") \n",
    "        else :                                       # le pion est blanc\n",
    "            if a == X-2 and X != 1 :\n",
    "                raise ValueError(\"Le déplacement est impossible\") \n",
    "            elif a == X-1 or a == X-2 :\n",
    "                return (a,b) \n",
    "    else :                                           # case occupée par une pièce de même couleur\n",
    "             raise ValueError(\"Le déplacement est impossible\") "
   ]
  },
  {
   "cell_type": "markdown",
   "metadata": {},
   "source": [
    "Pour se déplacer avec la tour ou le fou, il est nécessaire de créer une fonction qui indique si le déplacement que l'on souhaite n'implique pas de traverser une pièce, auquel cas ce déplacement est impossible."
   ]
  },
  {
   "cell_type": "code",
   "execution_count": null,
   "metadata": {},
   "outputs": [],
   "source": [
    "def traverse_tour(a, b, X, Y) :                         \n",
    "    if a != X :                                         # déplacement horizontal\n",
    "            if a < X :\n",
    "                for coord in range(a+1, X) :\n",
    "                    if plateau[coord, b] != 0 :\n",
    "                        return False\n",
    "            else:\n",
    "                for coord in range(X+1, a) :\n",
    "                    if plateau[coord, b] != 0 :\n",
    "                        return False\n",
    "    elif b != Y:                                        # déplacement vertical\n",
    "            if b < Y :\n",
    "                for coord in range(b+1, Y) :\n",
    "                    if plateau[a, coord] != 0 :\n",
    "                        return False\n",
    "            else:\n",
    "                for coord in range(Y+1, b) :\n",
    "                    if plateau[a, coord] != 0 :\n",
    "                        return False\n",
    "    return True"
   ]
  },
  {
   "cell_type": "code",
   "execution_count": null,
   "metadata": {},
   "outputs": [],
   "source": [
    "def deplacement_tour(p, a, b):   \n",
    "    assert 0 <= a < 7\n",
    "    assert 0 <= b <= 7\n",
    "    (X, Y) = p[0]\n",
    "    color = p[2]\n",
    "    if a != X and b != Y:\n",
    "        raise ValueError(\"Le déplacement est impossible\") \n",
    "    elif plateau[a, b] == 0 :                        # déplacement simple                          \n",
    "        if traverse_tour(a, b, X, Y) == True :\n",
    "            return (a, b)\n",
    "        else:\n",
    "            raise ValueError(\"Vous traversez une pièce\")\n",
    "    else:                                       \n",
    "            if plateau[a,b][2] != color :             # élimination d'une pièce\n",
    "                if traverse_tour(a, b, X, Y) == True :\n",
    "                    morts.append(plateau[a, b])\n",
    "                    return (a, b)\n",
    "                else:\n",
    "                    raise ValueError(\"Vous traversez une pièce\")\n",
    "            else:                                     # case occupée par une pièce de même couleur\n",
    "                raise ValueError(\"Le déplacement est impossible\")"
   ]
  },
  {
   "cell_type": "code",
   "execution_count": null,
   "metadata": {},
   "outputs": [],
   "source": [
    "def traverse_fou(a, b, X, Y) :\n",
    "    if (X - a) > 0 and (Y - b) > 0 :            # X - a = Y - b = k\n",
    "        for i in range(X + 1, a) :\n",
    "            for j in range (Y + 1, b) :\n",
    "                if plateau[i, j] != 0 :\n",
    "                    return False\n",
    "    elif (X - a) > 0 and (Y - b ) < 0 :         # X - a = k et Y - b = -k\n",
    "        for i in range(X + 1, a) :\n",
    "            for j in range (b + 1, Y, -1) :\n",
    "                if plateau[i, j] != 0 :\n",
    "                    return False\n",
    "    elif (X - a) < 0 and (Y - b ) < 0 :         # X - a = Y - b = -k\n",
    "        for i in range(a + 1, X, -1) :\n",
    "            for j in range (b + 1, Y, -1) :\n",
    "                if plateau[i, j] != 0 :\n",
    "                    return False\n",
    "    elif (X - a) < 0 and (Y - b) > 0 :          # X - a = -k et Y - b = k\n",
    "        for i in range(a + 1, X, -1) :\n",
    "            for j in range (Y + 1, b) :\n",
    "                if plateau[i, j] != 0 :\n",
    "                    return False\n",
    "    return True"
   ]
  },
  {
   "cell_type": "code",
   "execution_count": null,
   "metadata": {},
   "outputs": [],
   "source": [
    "def deplacement_fou(p, a , b) :         \n",
    "    assert 0 <= a < 7\n",
    "    assert 0 <= b <= 7\n",
    "    (X, Y) = p[0]\n",
    "    color = p[2]\n",
    "    if traverse_fou(a, b, X, Y) == False :\n",
    "        raise ValueError(\"Vous traversez une pièce\")\n",
    "    else:\n",
    "        for k in range(0, 8) :\n",
    "            if (X - a) in {k, -k} and (Y - b) in {k, -k}: \n",
    "                if plateau[a,b] == 0 :                        # déplacement simple\n",
    "                    return (a, b)                         \n",
    "                elif plateau[a,b][2] != color :               # élimination d'une pièce\n",
    "                    morts.append(plateau[a, b])   \n",
    "                    return (a, b)\n",
    "                else :                                       # case occupée par une pièce de même couleur\n",
    "                        raise ValueError(\"Une autre pièce se trouve déjà sur cette case\")   \n",
    "            else :\n",
    "                raise ValueError(\"Le déplacement est impossible\")"
   ]
  },
  {
   "cell_type": "markdown",
   "metadata": {},
   "source": [
    "Dès lors, nous avons pu combiner ces deux fonctions pour programmer les déplacements de la dame."
   ]
  },
  {
   "cell_type": "code",
   "execution_count": null,
   "metadata": {},
   "outputs": [],
   "source": [
    "def deplacement_dame(p, a, b) :\n",
    "    (X, Y) = p[0]\n",
    "    if a == X or b == Y :                               # déplacement selon une ligne/colonne\n",
    "        deplacement_tour(p, a, b)                       \n",
    "    else:                                               # déplacement sur une diagonale\n",
    "        deplacement_fou(p, a, b)"
   ]
  },
  {
   "cell_type": "markdown",
   "metadata": {},
   "source": [
    "Ensuite, nous avons codé les règles de déplacement du cavalier."
   ]
  },
  {
   "cell_type": "code",
   "execution_count": null,
   "metadata": {},
   "outputs": [],
   "source": [
    "def deplacement_cavalier(p, a, b) :\n",
    "    assert 0 <= a < 7\n",
    "    assert 0 <= b <= 7\n",
    "    (X, Y) = p[0]\n",
    "    color = p[2]\n",
    "    for k in range(0, 8):   \n",
    "        if (X - a) in {-1, 1} and (Y - b) in {-2, 2} or (X - a) in {-2, 2} and (Y - b) in {-1, 1} :\n",
    "            if plateau[a,b] == 0 :\n",
    "                return (a, b)                            # déplacement simple\n",
    "            else:\n",
    "                if plateau[a,b][2] != color :            # élimination d'une pièce\n",
    "                    morts.append(plateau[a, b])\n",
    "                    return (a, b)\n",
    "                else:                                    # case occupée par une pièce de même couleur\n",
    "                    raise ValueError(\"Une autre pièce se trouve déjà sur cette case\")   \n",
    "        else:\n",
    "            raise ValueError(\"Le déplacement est impossible\")"
   ]
  },
  {
   "cell_type": "markdown",
   "metadata": {},
   "source": [
    "Enfin, il ne restait qu'à coder les déplacements du roi, qui sont assez basiques par rapport à ceux des autres pièces."
   ]
  },
  {
   "cell_type": "code",
   "execution_count": null,
   "metadata": {},
   "outputs": [],
   "source": [
    "def deplacement_roi(p, a, b) :\n",
    "    assert 0 <= a < 7\n",
    "    assert 0 <= b <= 7\n",
    "    (X, Y) = p[0]\n",
    "    color = p[2]\n",
    "    if a in {X+1, X, X-1} and b in {Y+1, Y, Y-1} :\n",
    "        if plateau[a,b] == 0:                       # déplacement simple\n",
    "            return (a, b)\n",
    "        else:\n",
    "            if plateau[a,b][2] != color :           # élimination d'une pièce\n",
    "                morts.append(plateau[a, b])\n",
    "                return (a, b)\n",
    "            else:                                   # case occupée par une pièce de même couleur\n",
    "                raise ValueError(\"Une autre pièce se trouve déjà sur cette case\")\n",
    "    else:\n",
    "        raise ValueError(\"Le déplacement est impossible\")"
   ]
  }
 ],
 "metadata": {
  "kernelspec": {
   "display_name": "Python 3",
   "language": "python",
   "name": "python3"
  },
  "language_info": {
   "codemirror_mode": {
    "name": "ipython",
    "version": 3
   },
   "file_extension": ".py",
   "mimetype": "text/x-python",
   "name": "python",
   "nbconvert_exporter": "python",
   "pygments_lexer": "ipython3",
   "version": "3.7.6"
  }
 },
 "nbformat": 4,
 "nbformat_minor": 4
}
