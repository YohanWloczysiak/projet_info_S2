{
 "cells": [
  {
   "cell_type": "markdown",
   "metadata": {},
   "source": [
    "# RESUME DE NOTRE PROJET"
   ]
  },
  {
   "cell_type": "markdown",
   "metadata": {},
   "source": [
    "Notre projet d'informatique porte sur l'implémentation d'un jeu d'échecs et de stratégies. \n",
    "    Avant de réfléchir à une quelconque stratégie, l'un d'entre nous s'est chargé de coder l'ensemble des règles du jeu d'échecs, en commençant par les règles de déplacements des pièces, puis en programmant le reste (comment vérifier si un joueur est en échec, comment caractériser l'échec et mat...). Nous avons également ajouté les règles moins essentielles du jeu, telles que la prise en passant, le roque et la promotion d'un pion.\n",
    "    En parallèle, l'autre membre de notre binôme s'est occupé de l'interface graphique de notre projet. Nous sommes soucieux d'avoir un programme qui puisse être joué de manière assez simple, en cliquant sur une pièce puis sur la case sur laquelle on veut la déplacer. Il a donc fallu créer le visuel du plateau ainsi que des boutons cliquables sur chaque case de ce dernier.\n",
    "    Enfin, nous nous sommes tous deux penchés sur une stratégie à adopter afin que l'utilisateur puisse jouer contre l'ordinateur. "
   ]
  },
  {
   "cell_type": "markdown",
   "metadata": {},
   "source": [
    "# Implémentation des règles de déplacements\n",
    "## Notations et modules à importer"
   ]
  },
  {
   "cell_type": "code",
   "execution_count": 24,
   "metadata": {},
   "outputs": [],
   "source": [
    "import copy\n",
    "import tkinter"
   ]
  },
  {
   "cell_type": "markdown",
   "metadata": {},
   "source": [
    "Dans chaque fonction de déplacement suivante, p correspondra à une liste de la forme [(X,Y), type, couleur, numero, image] où (X,Y) seront ses coordonnées sur le plateau. Image correspond à la représentation graphique de la pièce sur l'interface Le plateau est quant à lui représenté par une matrice. plateau[a,b] renvoit la pièce qui se trouve sur les coordonnées (a,b) du plateau. On caractérisera les cases vides par CV, définie par : [[0,0],\"case_vide\",\"\",0,case_vide], où case_vide correspond à l'image de la case vide sur l'interface graphique. La variable morts en argument de chaque fonction correspond à la liste des pièces éliminées au cours de la partie. "
   ]
  },
  {
   "cell_type": "markdown",
   "metadata": {},
   "source": [
    "## Règles de déplacements"
   ]
  },
  {
   "cell_type": "markdown",
   "metadata": {},
   "source": [
    "Tout d'abord, nous avons codé la fonction qui permet le déplacement d'un pion. Nous avons dû également prendre en compte dans cette fonction la possibilité de promouvoir un pion (le changer en une autre pièce lorsqu'il arrive de l'autre côté du plateau), ainsi que la prise en passant."
   ]
  },
  {
   "cell_type": "markdown",
   "metadata": {},
   "source": [
    "Pour implémenter la fonction promotion, il a fallu distinguer tous les cas de promotion du pion possible. Puis il est nécessaire de remplacer la pièce \"morte\" par le pion qui obtient sa promotion. Dès lors il était nécessaire d'accéder à l'indice de la liste \"morts\" dans lequel était stockée la pièce qui va remplacer le pion, d'où la création de la fonction indice."
   ]
  },
  {
   "cell_type": "code",
   "execution_count": 25,
   "metadata": {},
   "outputs": [],
   "source": [
    "def indice(x, liste) :               # renvoit l'indice de la liste dans lequel se trouve l'élément x\n",
    "    indice = 0\n",
    "    while liste[indice] != x and indice <= len(liste):\n",
    "        indice += 1\n",
    "    if indice == len(liste):\n",
    "        return None\n",
    "    return indice"
   ]
  },
  {
   "cell_type": "code",
   "execution_count": 4,
   "metadata": {},
   "outputs": [],
   "source": [
    "# PROMOTION"
   ]
  },
  {
   "cell_type": "code",
   "execution_count": 5,
   "metadata": {},
   "outputs": [],
   "source": [
    "# PRISE EN PASSANT"
   ]
  },
  {
   "cell_type": "markdown",
   "metadata": {},
   "source": [
    "Finalement, la fonction deplacement_pion est assez dense, d'autant plus qu'il est nécessaire de distinguer la couleur du pion pour vérifier si le déplacement demandé est possible."
   ]
  },
  {
   "cell_type": "code",
   "execution_count": 6,
   "metadata": {},
   "outputs": [],
   "source": [
    "# DEPLACEMENT PION"
   ]
  },
  {
   "cell_type": "markdown",
   "metadata": {},
   "source": [
    "Pour se déplacer avec la tour ou le fou, il est nécessaire de créer une fonction qui indique si le déplacement que l'on souhaite n'implique pas de traverser une pièce, auquel cas ce déplacement est impossible."
   ]
  },
  {
   "cell_type": "code",
   "execution_count": 7,
   "metadata": {},
   "outputs": [],
   "source": [
    "# TRAVERSE TOUR"
   ]
  },
  {
   "cell_type": "code",
   "execution_count": 8,
   "metadata": {},
   "outputs": [],
   "source": [
    "# DEPLACEMENT TOUR"
   ]
  },
  {
   "cell_type": "code",
   "execution_count": 9,
   "metadata": {},
   "outputs": [],
   "source": [
    "# TRAVERSE FOU"
   ]
  },
  {
   "cell_type": "code",
   "execution_count": 10,
   "metadata": {},
   "outputs": [],
   "source": [
    "# DEPLACEMENT FOU"
   ]
  },
  {
   "cell_type": "markdown",
   "metadata": {},
   "source": [
    "Dès lors, nous avons pu combiner ces deux fonctions pour programmer les déplacements de la dame."
   ]
  },
  {
   "cell_type": "code",
   "execution_count": 26,
   "metadata": {},
   "outputs": [],
   "source": [
    "def deplacement_dame(p, a, b, plateau, morts) :                        \n",
    "    (X, Y) = p[0]\n",
    "    if a == X or b == Y :                               # déplacement selon une ligne/colonne\n",
    "        deplacement_tour(p, a, b, plateau, morts)                       \n",
    "    else:                                               # déplacement sur une diagonale\n",
    "        deplacement_fou(p, a, b, plateau, morts)"
   ]
  },
  {
   "cell_type": "markdown",
   "metadata": {},
   "source": [
    "Ensuite, nous avons codé les règles de déplacement du cavalier."
   ]
  },
  {
   "cell_type": "code",
   "execution_count": 27,
   "metadata": {},
   "outputs": [],
   "source": [
    "# DEPLACEMENT CAVALIER"
   ]
  },
  {
   "cell_type": "markdown",
   "metadata": {},
   "source": [
    "Enfin, il ne restait qu'à coder les déplacements du roi, qui sont assez basiques par rapport à ceux des autres pièces."
   ]
  },
  {
   "cell_type": "code",
   "execution_count": 28,
   "metadata": {},
   "outputs": [],
   "source": [
    "# DEPLACEMENT ROI"
   ]
  },
  {
   "cell_type": "markdown",
   "metadata": {},
   "source": [
    "Renvoyer une ValueError pour chaque fonction dès qu'une erreur a été détectée permettra d'utiliser ces fonctions dans des fonctions annexes. A la différence d'un print et grâce à la structure try/except, cette fonction ne renverra rien lorsque par exemple une tentative de déplacement a échoué."
   ]
  },
  {
   "cell_type": "markdown",
   "metadata": {},
   "source": [
    "A partir de toutes ces fonctions spécifiques à chaque type de pièce, nous définissons la fonction déplacement. Cette fonction permet de déplacer une pièce en utilisant les fonctions précédentes"
   ]
  },
  {
   "cell_type": "code",
   "execution_count": 29,
   "metadata": {},
   "outputs": [],
   "source": [
    "def deplacement(p,a,b, plateau, morts) :                         \n",
    "    name = p[1]\n",
    "    if name == \"pion\":\n",
    "        deplacement_pion(p, a, b, plateau, morts)\n",
    "    elif name == \"fou\":\n",
    "        deplacement_fou(p, a, b, plateau, morts)\n",
    "    elif name == \"cavalier\":\n",
    "        deplacement_cavalier(p, a, b, plateau, morts)\n",
    "    elif name == \"tour\":\n",
    "        deplacement_tour(p, a, b, plateau, morts)\n",
    "    elif name == \"dame\":\n",
    "        deplacement_dame(p, a, b, plateau, morts)\n",
    "    else:\n",
    "        deplacement_roi(p, a, b, plateau, morts)"
   ]
  },
  {
   "cell_type": "markdown",
   "metadata": {},
   "source": [
    "## Autres règles du jeu d'échecs"
   ]
  },
  {
   "cell_type": "markdown",
   "metadata": {},
   "source": [
    "Maintenant que nous avons établi des règles sur les déplacements de chaque type de pièce, il reste encore à pouvoir effectuer un roque (petit ou grand), à définir le cas d'échec ainsi que le cas d'échec et mat."
   ]
  },
  {
   "cell_type": "markdown",
   "metadata": {},
   "source": [
    "## Petit et grand roques"
   ]
  },
  {
   "cell_type": "markdown",
   "metadata": {},
   "source": [
    "En ce qui concerne le roque, il est nécessaire de vérifier si le roi que l'on veut faire roquer a déjà été mis en échec, auquel cas le roque est impossible. Cet indicateur est caractérisé par nb_morts, un dictionnaire à deux entrées, \"blanc\" et \"noir\"."
   ]
  },
  {
   "cell_type": "code",
   "execution_count": 15,
   "metadata": {},
   "outputs": [],
   "source": [
    "# ROQUE"
   ]
  },
  {
   "cell_type": "markdown",
   "metadata": {},
   "source": [
    "## Caractérisation de l'échec"
   ]
  },
  {
   "cell_type": "markdown",
   "metadata": {},
   "source": [
    "Intéressons-nous désormais à la règle de l'échec. Pour avoir un échec, il faut que le roi puisse être éliminé par une pièce adverse au tour suivant. Tout d'abord, nous avons besoin d'une fonction qui donne la liste des pièces blanches et des pièces noires."
   ]
  },
  {
   "cell_type": "code",
   "execution_count": 16,
   "metadata": {},
   "outputs": [],
   "source": [
    "def find_color(plateau):\n",
    "    blancs, noirs = [], []\n",
    "    for i in range(0,8):\n",
    "        for j in range(0,8):\n",
    "            if plateau[i,j][3] == 0 :\n",
    "                pass\n",
    "            else:\n",
    "                piece = plateau[i,j]\n",
    "                if piece[2] == \"noir\":\n",
    "                    noirs.append(piece)\n",
    "                else :\n",
    "                    blancs.append(piece)\n",
    "    return noirs, blancs  "
   ]
  },
  {
   "cell_type": "markdown",
   "metadata": {},
   "source": [
    "Ensuite, il faut une fonction qui détermine pour chaque couleur toutes les cases qui peuvent être atteintes par cette couleur. Comme indiqué précédemment, on teste les fonctions de déplacement sans risquer de déclencher une erreur grâce à la structure try/except."
   ]
  },
  {
   "cell_type": "code",
   "execution_count": 17,
   "metadata": {},
   "outputs": [],
   "source": [
    "def liste_deplacements_possibles(color, plateau, morts) :\n",
    "    liste_deplacements = []\n",
    "    copie_plateau = copy.copy(plateau)\n",
    "    for piece in color :\n",
    "        for a in range(0,8) :\n",
    "            for b in range(0,8) :\n",
    "                try :\n",
    "                    deplacement(piece,a,b, copie_plateau, morts)\n",
    "                    liste_deplacements.append([a,b])\n",
    "                except :\n",
    "                    pass\n",
    "    return liste_deplacements"
   ]
  },
  {
   "cell_type": "markdown",
   "metadata": {},
   "source": [
    "Enfin, on détermine si les coordonnées de chaque roi peuvent être atteintes par une pièce adverse. Si l'une des couleurs est mise en échec, test_echec renverra True et color, avec color la liste des pièces de la couleur mise en échec."
   ]
  },
  {
   "cell_type": "code",
   "execution_count": 18,
   "metadata": {},
   "outputs": [],
   "source": [
    "def test_echec(plateau, morts, nb_echecs):\n",
    "    noirs, blancs = find_color(plateau)\n",
    "    deplacements_noirs = liste_deplacements_possibles(noirs, plateau, morts)\n",
    "    deplacements_blancs = liste_deplacements_possibles(blancs, plateau, morts)\n",
    "    if RB[0] in deplacements_noirs :\n",
    "        nb_echecs[\"blanc\"] += 1\n",
    "        print(\"Le roi blanc est en échec\")\n",
    "        return True, blancs, nb_echecs\n",
    "    elif RN[0] in deplacements_blancs :\n",
    "        nb_echecs[\"noir\"] += 1\n",
    "        print(\"Le roi noir est en échec\")\n",
    "        return True, noirs, nb_echecs\n",
    "    return False"
   ]
  },
  {
   "cell_type": "markdown",
   "metadata": {},
   "source": [
    "Pour en finir avec les règles, il a fallu caractériser l'échec et mat. Pour cela, il faut tester s'il existe un déplacement possible de la couleur mise en échec pour ne plus être en échec. Sinon, il y a échec et mat. On aura donc besoin de la fonction liste_deplacements_piece qui donne la liste des déplacements pour chaque pièce. Puis on teste sur une copie du plateau si l'un des déplacements possibles de l'une des pièces permet de sortir de l'échec."
   ]
  },
  {
   "cell_type": "code",
   "execution_count": 19,
   "metadata": {},
   "outputs": [],
   "source": [
    "def liste_deplacements_piece(piece, plateau, morts):\n",
    "    liste_deplacements = []\n",
    "    copie_plateau = copy.copy(plateau)\n",
    "    for a in range(0,8) :\n",
    "        for b in range(0,8) :\n",
    "            try :\n",
    "                deplacement(piece,a,b,copie_plateau, morts)\n",
    "                liste_deplacements.append([a,b])\n",
    "            except :\n",
    "                pass\n",
    "    return liste_deplacements"
   ]
  },
  {
   "cell_type": "code",
   "execution_count": 21,
   "metadata": {},
   "outputs": [],
   "source": [
    "def echec_et_mat(plateau, morts, nb_echecs):\n",
    "    if test_echec(plateau, morts) == False :\n",
    "        pass\n",
    "    else :\n",
    "        test, couleur, nb_echecs = test_echec(plateau, morts, nb_echecs)                         # couleur = couleur mise en échec\n",
    "        for piece in couleur :                                             # on teste toutes les pièces de la couleur mise en échec\n",
    "            liste = liste_deplacements_piece(piece, plateau, morts)        # liste des déplacements possibles pour chaque pièce\n",
    "            for couple in liste :\n",
    "                a = couple[0]\n",
    "                b = couple[1]\n",
    "                copie_nb_echecs = copy.copy(nb_echecs)\n",
    "                copie_plateau = copy.copy(plateau)                         # on effectue une copie du plateau pour simuler les déplacements\n",
    "                deplacement(piece, a, b, copie_plateau, morts)\n",
    "                if test_echec(copie_plateau, morts, copie_nb_echecs) == False :             # on teste si après un déplacement possible, le joueur peut sortir de l'échec\n",
    "                    return False   # il n'y a pas échec et mat\n",
    "                return True        # il y a pas échec et mat            "
   ]
  },
  {
   "cell_type": "markdown",
   "metadata": {},
   "source": [
    "Pour conclure sur l'implémentation des règles, il a fallu créer une fonction qui indique si la partie est finie et auquel cas quelle est la couleur gagnante."
   ]
  },
  {
   "cell_type": "code",
   "execution_count": 22,
   "metadata": {},
   "outputs": [],
   "source": [
    "def fin_de_partie(plateau) :                      \n",
    "    if echec_et_mat(plateau) == False :\n",
    "        return None\n",
    "    else :                                                    # il y a échec et mat \n",
    "        test, couleur = test_echec(plateau)                   # la couleur perdante est celle mise en échec\n",
    "        if couleur == \"blancs\" :\n",
    "            print(\"Victoire des noirs !!\")\n",
    "        else :\n",
    "            print(\"Victoire des blancs !!\")"
   ]
  },
  {
   "cell_type": "markdown",
   "metadata": {},
   "source": [
    "# Mise en place de l'interface graphique\n",
    "## Affichage des pièces et du plateau"
   ]
  },
  {
   "cell_type": "markdown",
   "metadata": {},
   "source": [
    "Comme indiqué précédemment, nous avons crée les représentations graphiques de chaque pièce via le module tkinter. Les pièces se trouvent dans le dossier joint. Il suffit de remplacer leurs chemins pour pouvoir les afficher. "
   ]
  },
  {
   "cell_type": "code",
   "execution_count": 23,
   "metadata": {},
   "outputs": [
    {
     "ename": "TclError",
     "evalue": "couldn't open \"C:/Users/yohan/Desktop/pieces_echecs_info/case_vide.gif\": no such file or directory",
     "output_type": "error",
     "traceback": [
      "\u001b[1;31m---------------------------------------------------------------------------\u001b[0m",
      "\u001b[1;31mTclError\u001b[0m                                  Traceback (most recent call last)",
      "\u001b[1;32m<ipython-input-23-d758ef973075>\u001b[0m in \u001b[0;36m<module>\u001b[1;34m\u001b[0m\n\u001b[0;32m      1\u001b[0m \u001b[0mplateau_visuel\u001b[0m \u001b[1;33m=\u001b[0m \u001b[0mtkinter\u001b[0m\u001b[1;33m.\u001b[0m\u001b[0mTk\u001b[0m\u001b[1;33m(\u001b[0m\u001b[1;33m)\u001b[0m\u001b[1;33m\u001b[0m\u001b[1;33m\u001b[0m\u001b[0m\n\u001b[0;32m      2\u001b[0m \u001b[1;33m\u001b[0m\u001b[0m\n\u001b[1;32m----> 3\u001b[1;33m \u001b[0mcase_vide\u001b[0m \u001b[1;33m=\u001b[0m \u001b[0mtkinter\u001b[0m\u001b[1;33m.\u001b[0m\u001b[0mPhotoImage\u001b[0m\u001b[1;33m(\u001b[0m\u001b[0mfile\u001b[0m\u001b[1;33m=\u001b[0m\u001b[1;34m'C:/Users/yohan/Desktop/pieces_echecs_info/case_vide.gif'\u001b[0m\u001b[1;33m)\u001b[0m\u001b[1;33m\u001b[0m\u001b[1;33m\u001b[0m\u001b[0m\n\u001b[0m\u001b[0;32m      4\u001b[0m \u001b[0mDame_noire\u001b[0m \u001b[1;33m=\u001b[0m \u001b[0mtkinter\u001b[0m\u001b[1;33m.\u001b[0m\u001b[0mPhotoImage\u001b[0m\u001b[1;33m(\u001b[0m\u001b[0mfile\u001b[0m\u001b[1;33m=\u001b[0m\u001b[1;34m'C:/Users/yohan/Desktop/pieces_echecs_info/Dame_noire.gif'\u001b[0m\u001b[1;33m)\u001b[0m\u001b[1;33m\u001b[0m\u001b[1;33m\u001b[0m\u001b[0m\n\u001b[0;32m      5\u001b[0m \u001b[0mRoi_noir\u001b[0m \u001b[1;33m=\u001b[0m \u001b[0mtkinter\u001b[0m\u001b[1;33m.\u001b[0m\u001b[0mPhotoImage\u001b[0m\u001b[1;33m(\u001b[0m\u001b[0mfile\u001b[0m\u001b[1;33m=\u001b[0m\u001b[1;34m'C:/Users/yohan/Desktop/pieces_echecs_info/Roi_noir.gif'\u001b[0m\u001b[1;33m)\u001b[0m\u001b[1;33m\u001b[0m\u001b[1;33m\u001b[0m\u001b[0m\n",
      "\u001b[1;32m~\\anaconda3\\lib\\tkinter\\__init__.py\u001b[0m in \u001b[0;36m__init__\u001b[1;34m(self, name, cnf, master, **kw)\u001b[0m\n\u001b[0;32m   3543\u001b[0m         \u001b[0mValid\u001b[0m \u001b[0mresource\u001b[0m \u001b[0mnames\u001b[0m\u001b[1;33m:\u001b[0m \u001b[0mdata\u001b[0m\u001b[1;33m,\u001b[0m \u001b[0mformat\u001b[0m\u001b[1;33m,\u001b[0m \u001b[0mfile\u001b[0m\u001b[1;33m,\u001b[0m \u001b[0mgamma\u001b[0m\u001b[1;33m,\u001b[0m \u001b[0mheight\u001b[0m\u001b[1;33m,\u001b[0m \u001b[0mpalette\u001b[0m\u001b[1;33m,\u001b[0m\u001b[1;33m\u001b[0m\u001b[1;33m\u001b[0m\u001b[0m\n\u001b[0;32m   3544\u001b[0m         width.\"\"\"\n\u001b[1;32m-> 3545\u001b[1;33m         \u001b[0mImage\u001b[0m\u001b[1;33m.\u001b[0m\u001b[0m__init__\u001b[0m\u001b[1;33m(\u001b[0m\u001b[0mself\u001b[0m\u001b[1;33m,\u001b[0m \u001b[1;34m'photo'\u001b[0m\u001b[1;33m,\u001b[0m \u001b[0mname\u001b[0m\u001b[1;33m,\u001b[0m \u001b[0mcnf\u001b[0m\u001b[1;33m,\u001b[0m \u001b[0mmaster\u001b[0m\u001b[1;33m,\u001b[0m \u001b[1;33m**\u001b[0m\u001b[0mkw\u001b[0m\u001b[1;33m)\u001b[0m\u001b[1;33m\u001b[0m\u001b[1;33m\u001b[0m\u001b[0m\n\u001b[0m\u001b[0;32m   3546\u001b[0m     \u001b[1;32mdef\u001b[0m \u001b[0mblank\u001b[0m\u001b[1;33m(\u001b[0m\u001b[0mself\u001b[0m\u001b[1;33m)\u001b[0m\u001b[1;33m:\u001b[0m\u001b[1;33m\u001b[0m\u001b[1;33m\u001b[0m\u001b[0m\n\u001b[0;32m   3547\u001b[0m         \u001b[1;34m\"\"\"Display a transparent image.\"\"\"\u001b[0m\u001b[1;33m\u001b[0m\u001b[1;33m\u001b[0m\u001b[0m\n",
      "\u001b[1;32m~\\anaconda3\\lib\\tkinter\\__init__.py\u001b[0m in \u001b[0;36m__init__\u001b[1;34m(self, imgtype, name, cnf, master, **kw)\u001b[0m\n\u001b[0;32m   3499\u001b[0m                 \u001b[0mv\u001b[0m \u001b[1;33m=\u001b[0m \u001b[0mself\u001b[0m\u001b[1;33m.\u001b[0m\u001b[0m_register\u001b[0m\u001b[1;33m(\u001b[0m\u001b[0mv\u001b[0m\u001b[1;33m)\u001b[0m\u001b[1;33m\u001b[0m\u001b[1;33m\u001b[0m\u001b[0m\n\u001b[0;32m   3500\u001b[0m             \u001b[0moptions\u001b[0m \u001b[1;33m=\u001b[0m \u001b[0moptions\u001b[0m \u001b[1;33m+\u001b[0m \u001b[1;33m(\u001b[0m\u001b[1;34m'-'\u001b[0m\u001b[1;33m+\u001b[0m\u001b[0mk\u001b[0m\u001b[1;33m,\u001b[0m \u001b[0mv\u001b[0m\u001b[1;33m)\u001b[0m\u001b[1;33m\u001b[0m\u001b[1;33m\u001b[0m\u001b[0m\n\u001b[1;32m-> 3501\u001b[1;33m         \u001b[0mself\u001b[0m\u001b[1;33m.\u001b[0m\u001b[0mtk\u001b[0m\u001b[1;33m.\u001b[0m\u001b[0mcall\u001b[0m\u001b[1;33m(\u001b[0m\u001b[1;33m(\u001b[0m\u001b[1;34m'image'\u001b[0m\u001b[1;33m,\u001b[0m \u001b[1;34m'create'\u001b[0m\u001b[1;33m,\u001b[0m \u001b[0mimgtype\u001b[0m\u001b[1;33m,\u001b[0m \u001b[0mname\u001b[0m\u001b[1;33m,\u001b[0m\u001b[1;33m)\u001b[0m \u001b[1;33m+\u001b[0m \u001b[0moptions\u001b[0m\u001b[1;33m)\u001b[0m\u001b[1;33m\u001b[0m\u001b[1;33m\u001b[0m\u001b[0m\n\u001b[0m\u001b[0;32m   3502\u001b[0m         \u001b[0mself\u001b[0m\u001b[1;33m.\u001b[0m\u001b[0mname\u001b[0m \u001b[1;33m=\u001b[0m \u001b[0mname\u001b[0m\u001b[1;33m\u001b[0m\u001b[1;33m\u001b[0m\u001b[0m\n\u001b[0;32m   3503\u001b[0m     \u001b[1;32mdef\u001b[0m \u001b[0m__str__\u001b[0m\u001b[1;33m(\u001b[0m\u001b[0mself\u001b[0m\u001b[1;33m)\u001b[0m\u001b[1;33m:\u001b[0m \u001b[1;32mreturn\u001b[0m \u001b[0mself\u001b[0m\u001b[1;33m.\u001b[0m\u001b[0mname\u001b[0m\u001b[1;33m\u001b[0m\u001b[1;33m\u001b[0m\u001b[0m\n",
      "\u001b[1;31mTclError\u001b[0m: couldn't open \"C:/Users/yohan/Desktop/pieces_echecs_info/case_vide.gif\": no such file or directory"
     ]
    }
   ],
   "source": [
    "plateau_visuel = tkinter.Tk()\n",
    "\n",
    "case_vide = tkinter.PhotoImage(file='C:/Users/yohan/Desktop/pieces_echecs_info/case_vide.gif')\n",
    "Dame_noire = tkinter.PhotoImage(file='C:/Users/yohan/Desktop/pieces_echecs_info/Dame_noire.gif')\n",
    "Roi_noir = tkinter.PhotoImage(file='C:/Users/yohan/Desktop/pieces_echecs_info/Roi_noir.gif')\n",
    "Tour_noire = tkinter.PhotoImage(file='C:/Users/yohan/Desktop/pieces_echecs_info/Tour_noire.gif')\n",
    "Fou_noir = tkinter.PhotoImage(file='C:/Users/yohan/Desktop/pieces_echecs_info/Fou_noir.gif')\n",
    "Cavalier_noir = tkinter.PhotoImage(file='C:/Users/yohan/Desktop/pieces_echecs_info/Cavalier_noir.gif')\n",
    "Pion_noir = tkinter.PhotoImage(file='C:/Users/yohan/Desktop/pieces_echecs_info/Pion_noir.gif')\n",
    "Dame_blanche = tkinter.PhotoImage(file='C:/Users/yohan/Desktop/pieces_echecs_info/Dame_blanche.gif')\n",
    "Roi_blanc = tkinter.PhotoImage(file='C:/Users/yohan/Desktop/pieces_echecs_info/Roi_blanc.gif')\n",
    "Tour_blanche = tkinter.PhotoImage(file='C:/Users/yohan/Desktop/pieces_echecs_info/Tour_blanche.gif')\n",
    "Fou_blanc = tkinter.PhotoImage(file='C:/Users/yohan/Desktop/pieces_echecs_info/Fou_blanc.gif')\n",
    "Cavalier_blanc = tkinter.PhotoImage(file='C:/Users/yohan/Desktop/pieces_echecs_info/Cavalier_blanc.gif')\n",
    "Pion_blanc = tkinter.PhotoImage(file='C:/Users/yohan/Desktop/pieces_echecs_info/Pion_blanc.gif')"
   ]
  },
  {
   "cell_type": "markdown",
   "metadata": {},
   "source": [
    "Puis nous avons crée les pièces et le plateau selon le modèle donné : [(X,Y), type, couleur, numero, image] ."
   ]
  },
  {
   "cell_type": "code",
   "execution_count": null,
   "metadata": {},
   "outputs": [],
   "source": [
    "PN1 =[[1,0],\"pion\",\"noir\",1, Pion_noir]\n",
    "PN2 =[[1,1],\"pion\",\"noir\",2, Pion_noir]\n",
    "PN3 =[[1,2],\"pion\",\"noir\",3, Pion_noir]\n",
    "PN4 =[[1,3],\"pion\",\"noir\",4, Pion_noir]\n",
    "PN5 =[[1,4],\"pion\",\"noir\",5, Pion_noir]\n",
    "PN6 =[[1,5],\"pion\",\"noir\",6, Pion_noir]\n",
    "PN7 =[[1,6],\"pion\",\"noir\",7, Pion_noir]\n",
    "PN8 =[[1,7],\"pion\",\"noir\",8, Pion_noir]\n",
    "\n",
    "TN1 = [[0,0],\"tour\",\"noir\",1, Tour_noire]\n",
    "CN1 = [[0,1],\"cavalier\",\"noir\",1, Cavalier_noir]\n",
    "FN1 = [[0,2],\"fou\",\"noir\",1, Fou_noir]        #fou qui n'ira que sur les cases blanches\n",
    "DN = [[0,3],\"dame\",\"noir\",1, Dame_noire]\n",
    "RN = [[0,4],\"roi\",\"noir\",1, Roi_noir]\n",
    "FN2 = [[0,5],\"fou\",\"noir\",2, Fou_noir]        #fou qui n'ira que sur les cases noires\n",
    "CN2 = [[0,6],\"cavalier\",\"noir\",2, Cavalier_noir]\n",
    "TN2 = [[0,7],\"tour\",\"noir\",2, Tour_noire]\n",
    "\n",
    "PB1 =[[6,0],\"pion\",\"blanc\",1, Pion_blanc]\n",
    "PB2 =[[6,0],\"pion\",\"blanc\",2, Pion_blanc]\n",
    "PB3 =[[6,0],\"pion\",\"blanc\",3, Pion_blanc]\n",
    "PB4 =[[6,0],\"pion\",\"blanc\",4, Pion_blanc]\n",
    "PB5 =[[6,0],\"pion\",\"blanc\",5, Pion_blanc]\n",
    "PB6 =[[6,0],\"pion\",\"blanc\",6, Pion_blanc]\n",
    "PB7 =[[6,0],\"pion\",\"blanc\",7, Pion_blanc]\n",
    "PB8 =[[6,0],\"pion\",\"blanc\",8, Pion_blanc]\n",
    "\n",
    "TB2 = [[7,0],\"tour\",\"blanc\",2, Tour_blanche]\n",
    "CB2 = [[7,1],\"cavalier\",\"blanc\",2, Cavalier_blanc]\n",
    "FB2 = [[7,2],\"fou\",\"blanc\",2, Fou_blanc]       #fou qui n'ira que sur les cases noires\n",
    "DB = [[7,3],\"dame\",\"blanc\",1, Dame_blanche]\n",
    "RB = [[7,4],\"roi\",\"blanc\",1, Roi_blanc]\n",
    "FB1 = [[7,5],\"fou\",\"blanc\",1, Fou_blanc]       #fou qui n'ira que sur les cases blanches\n",
    "CB1 = [[7,6],\"cavalier\",\"blanc\",1, Cavalier_blanc]\n",
    "TB1 = [[7,7],\"tour\",\"blanc\",1, Tour_blanche]\n",
    "\n",
    "CV = [[0,0],\"case_vide\",\"\",0,case_vide]\n",
    "\n",
    "plateau = numpy.array([[TN1,CN1,FN1,DN,RN,FN2,CN2,TN2],[PN1,PN2,PN3,PN4,PN5,PN6,PN7,PN8],[CV,CV,CV,CV,CV,CV,CV,CV],[CV,CV,CV,CV,CV,CV,CV,CV],[CV,CV,CV,CV,CV,CV,CV,CV],[CV,CV,CV,CV,CV,CV,CV,CV],[PB1,PB2,PB3,PB4,PB5,PB6,PB7,PB8],[TB1,CB1,FB2,DB,RB,FB1,CB2,TB2]])"
   ]
  },
  {
   "cell_type": "code",
   "execution_count": null,
   "metadata": {},
   "outputs": [],
   "source": []
  }
 ],
 "metadata": {
  "kernelspec": {
   "display_name": "Python 3",
   "language": "python",
   "name": "python3"
  },
  "language_info": {
   "codemirror_mode": {
    "name": "ipython",
    "version": 3
   },
   "file_extension": ".py",
   "mimetype": "text/x-python",
   "name": "python",
   "nbconvert_exporter": "python",
   "pygments_lexer": "ipython3",
   "version": "3.7.6"
  }
 },
 "nbformat": 4,
 "nbformat_minor": 4
}
